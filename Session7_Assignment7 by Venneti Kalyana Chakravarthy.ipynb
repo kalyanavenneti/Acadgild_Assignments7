{
 "cells": [
  {
   "cell_type": "code",
   "execution_count": 31,
   "metadata": {},
   "outputs": [
    {
     "name": "stdout",
     "output_type": "stream",
     "text": [
      "Input list: [3, 5, 7, 2, 8, 10, 11, 65, 72, 81, 99, 100, 150]\n",
      "output is: [  5.           4.66666667   5.66666667   6.66666667   9.66666667\n",
      "  28.66666667  49.33333333  72.66666667  84.          93.33333333\n",
      " 116.33333333]\n"
     ]
    }
   ],
   "source": [
    "# Question 1: Write a function to find moving average in an array over a window:\n",
    "# Test it over array_input = [3, 5, 7, 2, 8, 10, 11, 65, 72, 81, 99, 100, 150] and window of k=3, n=13\n",
    "\n",
    "# Note: The moving average sequence has n-k+1 elements = 13-3+1= 11 elements\n",
    "\n",
    "import numpy as np\n",
    "\n",
    "def moving_avg_arry(array_input, window_size):\n",
    "    val_array=np.cumsum(array_input,dtype=int)\n",
    "    val_array[3:]=val_array[3:]-val_array[:-3]\n",
    "    return val_array[3-1:]/3\n",
    "\n",
    "x=[3,5,7,2,8,10,11,65,72,81,99,100,150]\n",
    "array_input=np.array(x)\n",
    "array_output=moving_avg_arry(array_input,3)\n",
    "\n",
    "print(\"Input list:\", x)\n",
    "print(\"output is:\", array_output)"
   ]
  }
 ],
 "metadata": {
  "kernelspec": {
   "display_name": "Python 3",
   "language": "python",
   "name": "python3"
  },
  "language_info": {
   "codemirror_mode": {
    "name": "ipython",
    "version": 3
   },
   "file_extension": ".py",
   "mimetype": "text/x-python",
   "name": "python",
   "nbconvert_exporter": "python",
   "pygments_lexer": "ipython3",
   "version": "3.6.6"
  }
 },
 "nbformat": 4,
 "nbformat_minor": 2
}
